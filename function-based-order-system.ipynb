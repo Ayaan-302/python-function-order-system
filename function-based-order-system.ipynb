{
 "cells": [
  {
   "cell_type": "code",
   "execution_count": 2,
   "id": "7f7eb2e2-da88-463a-b74d-10429a5fdb6a",
   "metadata": {},
   "outputs": [
    {
     "name": "stdout",
     "output_type": "stream",
     "text": [
      "Welcome to Hobnob\n"
     ]
    },
    {
     "name": "stdin",
     "output_type": "stream",
     "text": [
      "What flavor would you like? (Chocolate/Pineapple/Red Velvet)\n",
      " pineapple\n",
      "Would you like a small (0.5 Kg)/medium (1 Kg)/large (2 Kg) cake?\n",
      " large\n"
     ]
    },
    {
     "name": "stdout",
     "output_type": "stream",
     "text": [
      "\n",
      "\n",
      "You selected a large size (2 Kg) Pineapple Paradise Cream Cake. The price is Rs. 1650\n"
     ]
    },
    {
     "name": "stdin",
     "output_type": "stream",
     "text": [
      "\n",
      "would you like to process the order? (Yes/No)\n",
      " no\n"
     ]
    },
    {
     "name": "stdout",
     "output_type": "stream",
     "text": [
      "Feel free to contact us anytime if you change your mind. Thankyou!\n"
     ]
    }
   ],
   "source": [
    "print(\"Welcome to Hobnob\")\n",
    "flavour=str(input(\"What flavor would you like? (Chocolate/Pineapple/Red Velvet)\\n\")).lower()\n",
    "size=str(input(\"Would you like a small (0.5 Kg)/medium (1 Kg)/large (2 Kg) cake?\\n\")).lower()\n",
    "if flavour==\"chocolate\" and size==\"small\":\n",
    "    print(\"\\n\\nYou selected a small size (0.5 Kg) Rich Chocolate Cake. The price is Rs. 900\")\n",
    "elif flavour==\"pineapple\" and size==\"small\":\n",
    "    print(\"\\n\\nYou selected a small size (0.5 Kg) Pineapple Paradise Cream Cake. The price is Rs. 800\")\n",
    "elif flavour==\"red velvet\" and size==\"small\":\n",
    "    print(\"\\n\\nYou selected a small size (0.5 Kg) Red Velvet Cake. The price is Rs. 800\")\n",
    "elif flavour==\"chocolate\" and size==\"medium\":\n",
    "    print(\"\\n\\nYou selected a medium size (1 Kg) Rich Cocolate Cake. The price is Rs. 1250\")\n",
    "elif flavour==\"pineapple\" and size==\"medium\":\n",
    "    print(\"\\n\\nYou selected a medium size (1 Kg) Pineapple Paradise Cream Cake. The price is Rs. 1200\")\n",
    "elif flavour==\"red velvet\" and size==\"medium\":\n",
    "    print(\"\\n\\nYou selected a medium size (1 Kg) Red Velvet Cake. The price is Rs. 1200\")\n",
    "elif flavour==\"chocolate\" and size==\"large\":\n",
    "    print(\"\\n\\nYou selected a large size (2 Kg) Rich Cocolate Cake. The price is Rs. 1850\")\n",
    "elif flavour==\"pineapple\" and size==\"large\":\n",
    "    print(\"\\n\\nYou selected a large size (2 Kg) Pineapple Paradise Cream Cake. The price is Rs. 1650\")\n",
    "elif flavour==\"red velvet\" and size==\"large\":\n",
    "    print(\"\\n\\nYou selected a large size (2 Kg) Red Velvet Cake. The price is Rs. 1650\")\n",
    "else:\n",
    "    print(\"invalid input\")\n",
    "customer=input(\"\\nwould you like to process the order? (Yes/No)\\n\").lower()\n",
    "if customer==\"yes\":\n",
    "    input(\"Please Provide your address for Deilvery\")\n",
    "    print(\"Thank you for your order\")\n",
    "elif customer==\"no\":\n",
    "    print(\"Feel free to contact us anytime if you change your mind. Thankyou!\")\n",
    "else:\n",
    "    print(\"invalid input\")\n",
    "\n",
    "    \n"
   ]
  },
  {
   "cell_type": "code",
   "execution_count": null,
   "id": "0b65a6a7-ed6c-4c70-b048-ca10943a0a0d",
   "metadata": {},
   "outputs": [],
   "source": []
  }
 ],
 "metadata": {
  "kernelspec": {
   "display_name": "Python 3 (ipykernel)",
   "language": "python",
   "name": "python3"
  },
  "language_info": {
   "codemirror_mode": {
    "name": "ipython",
    "version": 3
   },
   "file_extension": ".py",
   "mimetype": "text/x-python",
   "name": "python",
   "nbconvert_exporter": "python",
   "pygments_lexer": "ipython3",
   "version": "3.12.8"
  }
 },
 "nbformat": 4,
 "nbformat_minor": 5
}
